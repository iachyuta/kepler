{
 "cells": [
  {
   "cell_type": "code",
   "execution_count": 1,
   "id": "d103007c",
   "metadata": {},
   "outputs": [
    {
     "name": "stdout",
     "output_type": "stream",
     "text": [
      "Project - K\n"
     ]
    }
   ],
   "source": [
    "print(\"Project - K\")"
   ]
  },
  {
   "cell_type": "code",
   "execution_count": 2,
   "id": "ae787c5a",
   "metadata": {},
   "outputs": [
    {
     "ename": "NameError",
     "evalue": "name 'services' is not defined",
     "output_type": "error",
     "traceback": [
      "\u001b[0;31m---------------------------------------------------------------------------\u001b[0m",
      "\u001b[0;31mNameError\u001b[0m                                 Traceback (most recent call last)",
      "\u001b[0;32m<ipython-input-2-56a329633280>\u001b[0m in \u001b[0;36m<module>\u001b[0;34m\u001b[0m\n\u001b[1;32m      1\u001b[0m data = {\n\u001b[0;32m----> 2\u001b[0;31m     services:{\n\u001b[0m\u001b[1;32m      3\u001b[0m         \u001b[0;34m\"ms1\"\u001b[0m\u001b[0;34m:\u001b[0m \u001b[0;34m\"get repos\"\u001b[0m\u001b[0;34m,\u001b[0m\u001b[0;34m\u001b[0m\u001b[0;34m\u001b[0m\u001b[0m\n\u001b[1;32m      4\u001b[0m         \u001b[0;34m\"ms2\"\u001b[0m\u001b[0;34m:\u001b[0m \u001b[0;34m\"spin notebooks\"\u001b[0m\u001b[0;34m,\u001b[0m\u001b[0;34m\u001b[0m\u001b[0;34m\u001b[0m\u001b[0m\n\u001b[1;32m      5\u001b[0m         \u001b[0;34m\"ms3\"\u001b[0m\u001b[0;34m:\u001b[0m \u001b[0;34m\"create cluster\"\u001b[0m\u001b[0;34m\u001b[0m\u001b[0;34m\u001b[0m\u001b[0m\n",
      "\u001b[0;31mNameError\u001b[0m: name 'services' is not defined"
     ]
    }
   ],
   "source": [
    "data = {\n",
    "    \"services\":{\n",
    "        'ms1': 'get repos',\n",
    "        \"ms2\": \"spin notebooks',\n",
    "        \"ms3\": \"create cluster\"\n",
    "    },\n",
    "    resources:{\n",
    "        \"cpu\":\"50m\",\n",
    "        \"ram\":\"2gb\"\n",
    "    }\n",
    "}"
   ]
  }
 ],
 "metadata": {
  "kernelspec": {
   "display_name": "Python 3",
   "language": "python",
   "name": "python3"
  },
  "language_info": {
   "codemirror_mode": {
    "name": "ipython",
    "version": 3
   },
   "file_extension": ".py",
   "mimetype": "text/x-python",
   "name": "python",
   "nbconvert_exporter": "python",
   "pygments_lexer": "ipython3",
   "version": "3.7.12"
  }
 },
 "nbformat": 4,
 "nbformat_minor": 5
}
