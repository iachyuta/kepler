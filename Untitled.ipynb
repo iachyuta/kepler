{
 "cells": [
  {
   "cell_type": "code",
   "execution_count": 1,
   "id": "b9a13a28",
   "metadata": {},
   "outputs": [
    {
     "name": "stdout",
     "output_type": "stream",
     "text": [
      "Project - K\n"
     ]
    }
   ],
   "source": [
    "print(\"Project - K\")"
   ]
  },
  {
   "cell_type": "code",
   "execution_count": null,
   "id": "308bbcc3",
   "metadata": {},
   "outputs": [],
   "source": [
    "data = {\n",
    "    services:{\n",
    "        ms1: \"get repos\",\n",
    "        ms2: \"spin notebooks\",\n",
    "        ms3: \"create cluster\"\n",
    "    },\n",
    "    resources:{\n",
    "        cpu:50m\n",
    "        \n",
    "    }\n",
    "}"
   ]
  }
 ],
 "metadata": {
  "kernelspec": {
   "display_name": "Python 3",
   "language": "python",
   "name": "python3"
  },
  "language_info": {
   "codemirror_mode": {
    "name": "ipython",
    "version": 3
   },
   "file_extension": ".py",
   "mimetype": "text/x-python",
   "name": "python",
   "nbconvert_exporter": "python",
   "pygments_lexer": "ipython3",
   "version": "3.7.12"
  }
 },
 "nbformat": 4,
 "nbformat_minor": 5
}
