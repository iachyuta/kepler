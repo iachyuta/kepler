{
 "cells": [
  {
   "cell_type": "code",
   "execution_count": 1,
   "id": "d0823de5",
   "metadata": {},
   "outputs": [
    {
     "name": "stdout",
     "output_type": "stream",
     "text": [
      "Project - K\n"
     ]
    }
   ],
   "source": [
    "print(\"Project - K\")"
   ]
  },
  {
   "cell_type": "code",
   "execution_count": 3,
   "id": "4ea03b7b",
   "metadata": {},
   "outputs": [],
   "source": [
    "data = {\n",
    "    \"services\":{\n",
    "        'ms1': 'get repos',\n",
    "        'ms2': 'spin notebooks',\n",
    "        'ms3': 'create cluster'\n",
    "    },\n",
    "    \"resources\":{\n",
    "        'cpu':'50m',\n",
    "        'ram':'2gb'\n",
    "    }\n",
    "}"
   ]
  },
  {
   "cell_type": "code",
   "execution_count": 4,
   "id": "11024795",
   "metadata": {},
   "outputs": [
    {
     "data": {
      "text/plain": [
       "{'services': {'ms1': 'get repos',\n",
       "  'ms2': 'spin notebooks',\n",
       "  'ms3': 'create cluster'},\n",
       " 'resources': {'cpu': '50m', 'ram': '2gb'}}"
      ]
     },
     "execution_count": 4,
     "metadata": {},
     "output_type": "execute_result"
    }
   ],
   "source": [
    "data"
   ]
  },
  {
   "cell_type": "code",
   "execution_count": 5,
   "id": "6e6571e7",
   "metadata": {},
   "outputs": [
    {
     "data": {
      "text/plain": [
       "dict"
      ]
     },
     "execution_count": 5,
     "metadata": {},
     "output_type": "execute_result"
    }
   ],
   "source": [
    "type(data)"
   ]
  }
 ],
 "metadata": {
  "kernelspec": {
   "display_name": "Python 3",
   "language": "python",
   "name": "python3"
  },
  "language_info": {
   "codemirror_mode": {
    "name": "ipython",
    "version": 3
   },
   "file_extension": ".py",
   "mimetype": "text/x-python",
   "name": "python",
   "nbconvert_exporter": "python",
   "pygments_lexer": "ipython3",
   "version": "3.7.12"
  }
 },
 "nbformat": 4,
 "nbformat_minor": 5
}
